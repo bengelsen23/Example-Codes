{
 "cells": [
  {
   "cell_type": "code",
   "execution_count": 1,
   "metadata": {},
   "outputs": [
    {
     "name": "stdout",
     "output_type": "stream",
     "text": [
      "Populating the interactive namespace from numpy and matplotlib\n"
     ]
    }
   ],
   "source": [
    "%pylab inline\n",
    "%matplotlib inline\n",
    "import matplotlib\n",
    "import matplotlib.pyplot as plt\n",
    "from matplotlib import animation\n",
    "import matplotlib.cm as cm\n",
    "import matplotlib.figure as fig\n",
    "from matplotlib.ticker import MultipleLocator, FormatStrFormatter\n",
    "import numpy as np\n",
    "import numpy.ma as ma\n",
    "from netCDF4 import Dataset\n",
    "from scipy.ndimage import label, generate_binary_structure\n",
    "from collections import Counter\n",
    "import xarray as xr \n"
   ]
  },
  {
   "cell_type": "code",
   "execution_count": 56,
   "metadata": {},
   "outputs": [
    {
     "name": "stdout",
     "output_type": "stream",
     "text": [
      "(1, 20)\n"
     ]
    }
   ],
   "source": [
    "# Grab defined variables from cm1out.nc\n",
    "ncfile = '/data/slasher/a/engelse2/Windprof/FullEntrain_nssl_100_000001.nc'  \n",
    "\n",
    "fl = Dataset(ncfile,mode='r')\n",
    "\n",
    "z = fl.variables['z']\n",
    "u = fl.variables['u'][:]\n",
    "v = fl.variables['v'][:]\n",
    "\n",
    "\n",
    "\n",
    "x = np.empty(20)\n",
    "x.fill(90.)\n",
    "y=range(200)\n",
    "y = y[1:200:10]\n",
    "#y = np.empty(4)\n",
    "#y.fill(90.)\n",
    "z=range(20)\n",
    "z = z[1:20:1]\n",
    "\n",
    "u = u[:,np.arange(0,200,10),800,800]\n",
    "v = v[:,np.arange(0,200,10),800,800]\n",
    "#x = x[:,:,800,800]\n",
    "#y = y[:,:,800,800]\n",
    "#print(np.shape(u))\n",
    "\n",
    "windspd = np.sqrt(u**2+v**2)\n",
    "winddir = np.arctan(v/u)\n",
    "winddir = winddir * 180/np.pi\n",
    "print(np.shape(u))\n",
    "\n"
   ]
  },
  {
   "cell_type": "code",
   "execution_count": 58,
   "metadata": {
    "scrolled": true
   },
   "outputs": [
    {
     "data": {
      "text/plain": [
       "<matplotlib.text.Text at 0x2ab1e5483690>"
      ]
     },
     "execution_count": 58,
     "metadata": {},
     "output_type": "execute_result"
    },
    {
     "data": {
      "image/png": "[encoded data removed]",
      "text/plain": [
       "<matplotlib.figure.Figure at 0x2ab1e4ffa190>"
      ]
     },
     "metadata": {},
     "output_type": "display_data"
    }
   ],
   "source": [
    "plt.figure(figsize=(2, 5))\n",
    "plt.barbs(x, y,u, v)\n",
    "plt.yticks(np.arange(0, 200, 10))\n",
    "plt.ylabel('Height', fontsize=20)\n",
    "plt.xlim(85,95)\n",
    "ax = plt.gca()\n",
    "ax.xaxis.set_ticklabels([])\n",
    "plt.title('WK Wind Profile')"
   ]
  },
  {
   "cell_type": "code",
   "execution_count": null,
   "metadata": {
    "collapsed": true
   },
   "outputs": [],
   "source": [
    "fig = plt.figure(figsize=(9, 9))\n",
    "skew = SkewT(fig, rotation=45)\n",
    "#skew.plot(p, T, 'r')\n",
    "skew.plot_barbs(p, u, v)\n",
    "\n",
    "# Show the plot\n",
    "plt.show()"
   ]
  },
  {
   "cell_type": "code",
   "execution_count": 1,
   "metadata": {},
   "outputs": [
    {
     "ename": "ModuleNotFoundError",
     "evalue": "No module named 'skewt'",
     "output_type": "error",
     "traceback": [
      "\u001b[0;31m---------------------------------------------------------------------------\u001b[0m",
      "\u001b[0;31mModuleNotFoundError\u001b[0m                       Traceback (most recent call last)",
      "\u001b[0;32m<ipython-input-1-c3b88731d645>\u001b[0m in \u001b[0;36m<module>\u001b[0;34m()\u001b[0m\n\u001b[0;32m----> 1\u001b[0;31m \u001b[0;32mfrom\u001b[0m \u001b[0mskewt\u001b[0m \u001b[0;32mimport\u001b[0m \u001b[0mSkewT\u001b[0m\u001b[0;34m\u001b[0m\u001b[0m\n\u001b[0m",
      "\u001b[0;31mModuleNotFoundError\u001b[0m: No module named 'skewt'"
     ]
    }
   ],
   "source": []
  },
  {
   "cell_type": "code",
   "execution_count": null,
   "metadata": {
    "collapsed": true
   },
   "outputs": [],
   "source": []
  }
 ],
 "metadata": {
  "kernelspec": {
   "display_name": "Python 3",
   "language": "python",
   "name": "python3"
  },
  "language_info": {
   "codemirror_mode": {
    "name": "ipython",
    "version": 3
   },
   "file_extension": ".py",
   "mimetype": "text/x-python",
   "name": "python",
   "nbconvert_exporter": "python",
   "pygments_lexer": "ipython3",
   "version": "3.6.3"
  }
 },
 "nbformat": 4,
 "nbformat_minor": 1
}
